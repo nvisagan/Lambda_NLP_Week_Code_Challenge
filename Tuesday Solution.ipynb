{
 "cells": [
  {
   "cell_type": "markdown",
   "metadata": {},
   "source": [
    "# Tuesday Code Challenge"
   ]
  },
  {
   "cell_type": "markdown",
   "metadata": {},
   "source": [
    "Below is a code snippet that reads in a JSON file containing data extracted from academic papers as a Pandas DataFrame "
   ]
  },
  {
   "cell_type": "code",
   "execution_count": 5,
   "metadata": {},
   "outputs": [
    {
     "data": {
      "text/html": [
       "<div>\n",
       "<style scoped>\n",
       "    .dataframe tbody tr th:only-of-type {\n",
       "        vertical-align: middle;\n",
       "    }\n",
       "\n",
       "    .dataframe tbody tr th {\n",
       "        vertical-align: top;\n",
       "    }\n",
       "\n",
       "    .dataframe thead th {\n",
       "        text-align: right;\n",
       "    }\n",
       "</style>\n",
       "<table border=\"1\" class=\"dataframe\">\n",
       "  <thead>\n",
       "    <tr style=\"text-align: right;\">\n",
       "      <th></th>\n",
       "      <th>contents</th>\n",
       "      <th>filename</th>\n",
       "      <th>institutions</th>\n",
       "      <th>people</th>\n",
       "      <th>places</th>\n",
       "    </tr>\n",
       "  </thead>\n",
       "  <tbody>\n",
       "    <tr>\n",
       "      <th>Navigation to Small Bodies</th>\n",
       "      <td>See discussions, stats, and author profiles fo...</td>\n",
       "      <td>txt_files/Navigation to Small Bodies.txt</td>\n",
       "      <td>[IEEE Aerospace Conference, Arizona State Univ...</td>\n",
       "      <td>[Raviteja Nallapu, Jekan Thangavelautham, gdek...</td>\n",
       "      <td>[Arizona, Tucson, AZ, Arizona, Tucson, AZ, AZ ...</td>\n",
       "    </tr>\n",
       "    <tr>\n",
       "      <th>ASTRONOMICAL ENGINEERING</th>\n",
       "      <td>ASTRONOMICAL ENGINEERING: A STRATEGY FOR MODIF...</td>\n",
       "      <td>txt_files/ASTRONOMICAL ENGINEERING.txt</td>\n",
       "      <td>[ORBITSD.G. KORYCANSKY CODEP Dept Earth Scienc...</td>\n",
       "      <td>[CA 95064, GREGORY LAUGHLIN, gpl@acetylene.arc...</td>\n",
       "      <td>[Santa Cruz, CA 94035, U.S.A., Ann Arbor, MI 4...</td>\n",
       "    </tr>\n",
       "    <tr>\n",
       "      <th>Phase II of the Main Belt Asteroid Spectrosopic Survey</th>\n",
       "      <td>Icarus 158, 146�177 (2002) doi:10.1006/icar.20...</td>\n",
       "      <td>txt_files/Phase II of the Main Belt Asteroid S...</td>\n",
       "      <td>[Planetary Sciences, Massachusetts Institute o...</td>\n",
       "      <td>[Icarus 158, Richard P. BinzelDepartment, doi,...</td>\n",
       "      <td>[Cambridge, Massachusetts, Hilo, albedos, albe...</td>\n",
       "    </tr>\n",
       "    <tr>\n",
       "      <th>Devlopment of Xenon Hall Thrusters</th>\n",
       "      <td>NASA/CR--2004-213099https://ntrs.nasa.gov/sear...</td>\n",
       "      <td>txt_files/Devlopment of Xenon Hall Thrusters.txt</td>\n",
       "      <td>[NASA, Characterization of High-Efficiency, Mi...</td>\n",
       "      <td>[Richard R., Thermalized, Gaussmeter.............</td>\n",
       "      <td>[Ann Arbor, Michigan, Ann Arbor, MD, VA, Wien,...</td>\n",
       "    </tr>\n",
       "    <tr>\n",
       "      <th>Mine planning for Asteroid Ore Bodies</th>\n",
       "      <td>Space Resources Roundtable II (2000)7030.pdfMI...</td>\n",
       "      <td>txt_files/Mine planning for Asteroid Ore Bodie...</td>\n",
       "      <td>[Michigan Technological University, Mining Eng...</td>\n",
       "      <td>[L. S. Gertsch1, R. E. Gertsch2, L. S. Gertsch...</td>\n",
       "      <td>[Houghton, MI, Friable Rock, Hard Rock, Univ, ...</td>\n",
       "    </tr>\n",
       "  </tbody>\n",
       "</table>\n",
       "</div>"
      ],
      "text/plain": [
       "                                                                                             contents  \\\n",
       "Navigation to Small Bodies                          See discussions, stats, and author profiles fo...   \n",
       "ASTRONOMICAL ENGINEERING                            ASTRONOMICAL ENGINEERING: A STRATEGY FOR MODIF...   \n",
       "Phase II of the Main Belt Asteroid Spectrosopic...  Icarus 158, 146�177 (2002) doi:10.1006/icar.20...   \n",
       "Devlopment of Xenon Hall Thrusters                  NASA/CR--2004-213099https://ntrs.nasa.gov/sear...   \n",
       "Mine planning for Asteroid Ore Bodies               Space Resources Roundtable II (2000)7030.pdfMI...   \n",
       "\n",
       "                                                                                             filename  \\\n",
       "Navigation to Small Bodies                                   txt_files/Navigation to Small Bodies.txt   \n",
       "ASTRONOMICAL ENGINEERING                                       txt_files/ASTRONOMICAL ENGINEERING.txt   \n",
       "Phase II of the Main Belt Asteroid Spectrosopic...  txt_files/Phase II of the Main Belt Asteroid S...   \n",
       "Devlopment of Xenon Hall Thrusters                   txt_files/Devlopment of Xenon Hall Thrusters.txt   \n",
       "Mine planning for Asteroid Ore Bodies               txt_files/Mine planning for Asteroid Ore Bodie...   \n",
       "\n",
       "                                                                                         institutions  \\\n",
       "Navigation to Small Bodies                          [IEEE Aerospace Conference, Arizona State Univ...   \n",
       "ASTRONOMICAL ENGINEERING                            [ORBITSD.G. KORYCANSKY CODEP Dept Earth Scienc...   \n",
       "Phase II of the Main Belt Asteroid Spectrosopic...  [Planetary Sciences, Massachusetts Institute o...   \n",
       "Devlopment of Xenon Hall Thrusters                  [NASA, Characterization of High-Efficiency, Mi...   \n",
       "Mine planning for Asteroid Ore Bodies               [Michigan Technological University, Mining Eng...   \n",
       "\n",
       "                                                                                               people  \\\n",
       "Navigation to Small Bodies                          [Raviteja Nallapu, Jekan Thangavelautham, gdek...   \n",
       "ASTRONOMICAL ENGINEERING                            [CA 95064, GREGORY LAUGHLIN, gpl@acetylene.arc...   \n",
       "Phase II of the Main Belt Asteroid Spectrosopic...  [Icarus 158, Richard P. BinzelDepartment, doi,...   \n",
       "Devlopment of Xenon Hall Thrusters                  [Richard R., Thermalized, Gaussmeter.............   \n",
       "Mine planning for Asteroid Ore Bodies               [L. S. Gertsch1, R. E. Gertsch2, L. S. Gertsch...   \n",
       "\n",
       "                                                                                               places  \n",
       "Navigation to Small Bodies                          [Arizona, Tucson, AZ, Arizona, Tucson, AZ, AZ ...  \n",
       "ASTRONOMICAL ENGINEERING                            [Santa Cruz, CA 94035, U.S.A., Ann Arbor, MI 4...  \n",
       "Phase II of the Main Belt Asteroid Spectrosopic...  [Cambridge, Massachusetts, Hilo, albedos, albe...  \n",
       "Devlopment of Xenon Hall Thrusters                  [Ann Arbor, Michigan, Ann Arbor, MD, VA, Wien,...  \n",
       "Mine planning for Asteroid Ore Bodies               [Houghton, MI, Friable Rock, Hard Rock, Univ, ...  "
      ]
     },
     "execution_count": 5,
     "metadata": {},
     "output_type": "execute_result"
    }
   ],
   "source": [
    "import pandas as pd\n",
    "import json\n",
    "\n",
    "\n",
    "with open('documents.json') as f:\n",
    "    df = pd.DataFrame(json.load(f)).T.drop(columns = 'emails')\n",
    "\n",
    "df.head()"
   ]
  },
  {
   "cell_type": "markdown",
   "metadata": {},
   "source": [
    "## 1. Create a new column containing the tokenized contents of each paper"
   ]
  },
  {
   "cell_type": "markdown",
   "metadata": {},
   "source": [
    "### Tokens should\n",
    "- Be all lower case characters\n",
    "- Contain only alpha numeric characters\n",
    "- Be stored as a list"
   ]
  },
  {
   "cell_type": "code",
   "execution_count": 6,
   "metadata": {},
   "outputs": [],
   "source": [
    "import re\n",
    "    \n",
    "def tokenize(x):\n",
    "    text = x.lower()\n",
    "    text = re.sub(r'[^a-zA-Z ^0-9]', '', str(text))\n",
    "    return text.split()\n",
    "\n",
    "df['tokens'] = df['contents'].apply(lambda x: tokenize(x))"
   ]
  },
  {
   "cell_type": "code",
   "execution_count": 7,
   "metadata": {},
   "outputs": [
    {
     "data": {
      "text/plain": [
       "['see',\n",
       " 'discussions',\n",
       " 'stats',\n",
       " 'and',\n",
       " 'author',\n",
       " 'profiles',\n",
       " 'for',\n",
       " 'this',\n",
       " 'publication',\n",
       " 'at',\n",
       " 'httpswwwresearchgatenetpublication323600217navigating',\n",
       " 'to',\n",
       " 'smallbodies',\n",
       " 'using',\n",
       " 'small',\n",
       " 'satellitesarticle',\n",
       " 'in',\n",
       " 'ieee',\n",
       " 'aerospace',\n",
       " 'conference']"
      ]
     },
     "execution_count": 7,
     "metadata": {},
     "output_type": "execute_result"
    }
   ],
   "source": [
    "df['tokens'][0][:20]"
   ]
  },
  {
   "cell_type": "markdown",
   "metadata": {},
   "source": [
    "## 2. Using regular expressions, create a new column containing the emails from each paper"
   ]
  },
  {
   "cell_type": "code",
   "execution_count": 9,
   "metadata": {},
   "outputs": [],
   "source": [
    "def extract_emails(x):\n",
    "    return re.findall('\\S+@\\S+', x)\n",
    "\n",
    "df['emails'] = df['contents'].apply(lambda x: extract_emails(x))"
   ]
  },
  {
   "cell_type": "code",
   "execution_count": 10,
   "metadata": {},
   "outputs": [
    {
     "data": {
      "text/plain": [
       "['85721srs51@email.arizona.eduRavi',\n",
       " '85721rnallapu@email.arizona.eduPranay',\n",
       " 'aravin11@asu.eduGraham',\n",
       " 'gdektor@asu.eduVishnu',\n",
       " '85721reddy@lpl.arizona.eduErik',\n",
       " '85721easphaug@lpl.arizona.eduJekan',\n",
       " 'jekan@email.arizona.eduAbstract--Small-satellites']"
      ]
     },
     "execution_count": 10,
     "metadata": {},
     "output_type": "execute_result"
    }
   ],
   "source": [
    "df['emails'][0][:20]"
   ]
  },
  {
   "cell_type": "markdown",
   "metadata": {},
   "source": [
    "## 3. Using Spacy, create a new column containing the lemmas from each paper (this might take a second)"
   ]
  },
  {
   "cell_type": "code",
   "execution_count": 11,
   "metadata": {},
   "outputs": [],
   "source": [
    "import spacy\n",
    "\n",
    "# python -m spacy download en_core_web_lg\n",
    "nlp = spacy.load(\"en_core_web_lg\")\n",
    "\n",
    "def spacy_lemmatize(x):\n",
    "    doc = nlp.tokenizer(x)\n",
    "    return [token.lemma_ for token in doc]\n",
    "\n",
    "df['lemmas'] = df['tokens'].apply(lambda x: spacy_lemmatize(' '.join(x)))"
   ]
  },
  {
   "cell_type": "code",
   "execution_count": 12,
   "metadata": {},
   "outputs": [
    {
     "data": {
      "text/plain": [
       "['see',\n",
       " 'discussion',\n",
       " 'stats',\n",
       " 'and',\n",
       " 'author',\n",
       " 'profile',\n",
       " 'for',\n",
       " 'this',\n",
       " 'publication',\n",
       " 'at',\n",
       " 'httpswwwresearchgatenetpublication323600217navigating',\n",
       " 'to',\n",
       " 'smallbodies',\n",
       " 'use',\n",
       " 'small',\n",
       " 'satellitesarticle',\n",
       " 'in',\n",
       " 'ieee',\n",
       " 'aerospace',\n",
       " 'conference']"
      ]
     },
     "execution_count": 12,
     "metadata": {},
     "output_type": "execute_result"
    }
   ],
   "source": [
    "df['lemmas'][0][:20]"
   ]
  },
  {
   "cell_type": "markdown",
   "metadata": {},
   "source": [
    "## 4. Using Spacy, create a column containing the 10 most common words in each paper after stopwords are removed\n",
    "\n",
    "### Stretch: Remove more common stopwords"
   ]
  },
  {
   "cell_type": "code",
   "execution_count": 14,
   "metadata": {},
   "outputs": [],
   "source": [
    "from collections import Counter\n",
    "spacy_stopwords = spacy.lang.en.stop_words.STOP_WORDS\n",
    "\n",
    "\n",
    "def remove_stopwords(tokens):\n",
    "    cleaned_tokens = []\n",
    "    \n",
    "    for token in tokens:\n",
    "        if token not in spacy_stopwords:\n",
    "            cleaned_tokens.append(token)\n",
    "    \n",
    "    return cleaned_tokens\n",
    "\n",
    "\n",
    "def word_counter(tokens):\n",
    "    word_counts = Counter()\n",
    "    word_counts.update(tokens)\n",
    "    return word_counts"
   ]
  },
  {
   "cell_type": "code",
   "execution_count": 15,
   "metadata": {},
   "outputs": [],
   "source": [
    "df['10_most_common'] = df['lemmas'].apply(lambda x: word_counter(remove_stopwords(x)).most_common(10))"
   ]
  },
  {
   "cell_type": "code",
   "execution_count": 16,
   "metadata": {},
   "outputs": [
    {
     "data": {
      "text/plain": [
       "[('asteroid', 58),\n",
       " ('use', 57),\n",
       " ('spacecraft', 44),\n",
       " ('small', 39),\n",
       " ('target', 39),\n",
       " ('perform', 38),\n",
       " ('system', 32),\n",
       " ('mission', 29),\n",
       " ('body', 28),\n",
       " ('star', 25)]"
      ]
     },
     "execution_count": 16,
     "metadata": {},
     "output_type": "execute_result"
    }
   ],
   "source": [
    "df['10_most_common'][0][:20]"
   ]
  },
  {
   "cell_type": "code",
   "execution_count": 17,
   "metadata": {},
   "outputs": [
    {
     "data": {
      "text/html": [
       "<div>\n",
       "<style scoped>\n",
       "    .dataframe tbody tr th:only-of-type {\n",
       "        vertical-align: middle;\n",
       "    }\n",
       "\n",
       "    .dataframe tbody tr th {\n",
       "        vertical-align: top;\n",
       "    }\n",
       "\n",
       "    .dataframe thead th {\n",
       "        text-align: right;\n",
       "    }\n",
       "</style>\n",
       "<table border=\"1\" class=\"dataframe\">\n",
       "  <thead>\n",
       "    <tr style=\"text-align: right;\">\n",
       "      <th></th>\n",
       "      <th>contents</th>\n",
       "      <th>filename</th>\n",
       "      <th>institutions</th>\n",
       "      <th>people</th>\n",
       "      <th>places</th>\n",
       "      <th>tokens</th>\n",
       "      <th>emails</th>\n",
       "      <th>lemmas</th>\n",
       "      <th>10_most_common</th>\n",
       "    </tr>\n",
       "  </thead>\n",
       "  <tbody>\n",
       "    <tr>\n",
       "      <th>Navigation to Small Bodies</th>\n",
       "      <td>See discussions, stats, and author profiles fo...</td>\n",
       "      <td>txt_files/Navigation to Small Bodies.txt</td>\n",
       "      <td>[IEEE Aerospace Conference, Arizona State Univ...</td>\n",
       "      <td>[Raviteja Nallapu, Jekan Thangavelautham, gdek...</td>\n",
       "      <td>[Arizona, Tucson, AZ, Arizona, Tucson, AZ, AZ ...</td>\n",
       "      <td>[see, discussions, stats, and, author, profile...</td>\n",
       "      <td>[85721srs51@email.arizona.eduRavi, 85721rnalla...</td>\n",
       "      <td>[see, discussion, stats, and, author, profile,...</td>\n",
       "      <td>[(asteroid, 58), (use, 57), (spacecraft, 44), ...</td>\n",
       "    </tr>\n",
       "    <tr>\n",
       "      <th>ASTRONOMICAL ENGINEERING</th>\n",
       "      <td>ASTRONOMICAL ENGINEERING: A STRATEGY FOR MODIF...</td>\n",
       "      <td>txt_files/ASTRONOMICAL ENGINEERING.txt</td>\n",
       "      <td>[ORBITSD.G. KORYCANSKY CODEP Dept Earth Scienc...</td>\n",
       "      <td>[CA 95064, GREGORY LAUGHLIN, gpl@acetylene.arc...</td>\n",
       "      <td>[Santa Cruz, CA 94035, U.S.A., Ann Arbor, MI 4...</td>\n",
       "      <td>[astronomical, engineering, a, strategy, for, ...</td>\n",
       "      <td>[kory@ucolick.org, gpl@acetylene.arc.nasa.govF...</td>\n",
       "      <td>[astronomical, engineer, a, strategy, for, mod...</td>\n",
       "      <td>[(earth, 110), (encounter, 109), (orbit, 77), ...</td>\n",
       "    </tr>\n",
       "    <tr>\n",
       "      <th>Phase II of the Main Belt Asteroid Spectrosopic Survey</th>\n",
       "      <td>Icarus 158, 146�177 (2002) doi:10.1006/icar.20...</td>\n",
       "      <td>txt_files/Phase II of the Main Belt Asteroid S...</td>\n",
       "      <td>[Planetary Sciences, Massachusetts Institute o...</td>\n",
       "      <td>[Icarus 158, Richard P. BinzelDepartment, doi,...</td>\n",
       "      <td>[Cambridge, Massachusetts, Hilo, albedos, albe...</td>\n",
       "      <td>[icarus, 158, 146177, 2002, doi101006icar20026...</td>\n",
       "      <td>[sjb@ifa.hawaii.eduReceived]</td>\n",
       "      <td>[icarus, 158, 146177, 2002, doi101006icar20026...</td>\n",
       "      <td>[(s, 346), (asteroid, 325), (spectrum, 211), (...</td>\n",
       "    </tr>\n",
       "    <tr>\n",
       "      <th>Devlopment of Xenon Hall Thrusters</th>\n",
       "      <td>NASA/CR--2004-213099https://ntrs.nasa.gov/sear...</td>\n",
       "      <td>txt_files/Devlopment of Xenon Hall Thrusters.txt</td>\n",
       "      <td>[NASA, Characterization of High-Efficiency, Mi...</td>\n",
       "      <td>[Richard R., Thermalized, Gaussmeter.............</td>\n",
       "      <td>[Ann Arbor, Michigan, Ann Arbor, MD, VA, Wien,...</td>\n",
       "      <td>[nasacr2004213099httpsntrsnasagovsearchjspr200...</td>\n",
       "      <td>[help@sti.nasa.gov�]</td>\n",
       "      <td>[nasacr2004213099httpsntrsnasagovsearchjspr200...</td>\n",
       "      <td>[(thruster, 1121), (current, 793), (voltage, 7...</td>\n",
       "    </tr>\n",
       "    <tr>\n",
       "      <th>Mine planning for Asteroid Ore Bodies</th>\n",
       "      <td>Space Resources Roundtable II (2000)7030.pdfMI...</td>\n",
       "      <td>txt_files/Mine planning for Asteroid Ore Bodie...</td>\n",
       "      <td>[Michigan Technological University, Mining Eng...</td>\n",
       "      <td>[L. S. Gertsch1, R. E. Gertsch2, L. S. Gertsch...</td>\n",
       "      <td>[Houghton, MI, Friable Rock, Hard Rock, Univ, ...</td>\n",
       "      <td>[space, resources, roundtable, ii, 20007030pdf...</td>\n",
       "      <td>[1lgertsch@mtu.edu,, 2rgertsch@mtu.edu.Introdu...</td>\n",
       "      <td>[space, resource, roundtable, ii, 20007030pdfm...</td>\n",
       "      <td>[(asteroid, 32), (process, 15), (bag, 14), (co...</td>\n",
       "    </tr>\n",
       "  </tbody>\n",
       "</table>\n",
       "</div>"
      ],
      "text/plain": [
       "                                                                                             contents  \\\n",
       "Navigation to Small Bodies                          See discussions, stats, and author profiles fo...   \n",
       "ASTRONOMICAL ENGINEERING                            ASTRONOMICAL ENGINEERING: A STRATEGY FOR MODIF...   \n",
       "Phase II of the Main Belt Asteroid Spectrosopic...  Icarus 158, 146�177 (2002) doi:10.1006/icar.20...   \n",
       "Devlopment of Xenon Hall Thrusters                  NASA/CR--2004-213099https://ntrs.nasa.gov/sear...   \n",
       "Mine planning for Asteroid Ore Bodies               Space Resources Roundtable II (2000)7030.pdfMI...   \n",
       "\n",
       "                                                                                             filename  \\\n",
       "Navigation to Small Bodies                                   txt_files/Navigation to Small Bodies.txt   \n",
       "ASTRONOMICAL ENGINEERING                                       txt_files/ASTRONOMICAL ENGINEERING.txt   \n",
       "Phase II of the Main Belt Asteroid Spectrosopic...  txt_files/Phase II of the Main Belt Asteroid S...   \n",
       "Devlopment of Xenon Hall Thrusters                   txt_files/Devlopment of Xenon Hall Thrusters.txt   \n",
       "Mine planning for Asteroid Ore Bodies               txt_files/Mine planning for Asteroid Ore Bodie...   \n",
       "\n",
       "                                                                                         institutions  \\\n",
       "Navigation to Small Bodies                          [IEEE Aerospace Conference, Arizona State Univ...   \n",
       "ASTRONOMICAL ENGINEERING                            [ORBITSD.G. KORYCANSKY CODEP Dept Earth Scienc...   \n",
       "Phase II of the Main Belt Asteroid Spectrosopic...  [Planetary Sciences, Massachusetts Institute o...   \n",
       "Devlopment of Xenon Hall Thrusters                  [NASA, Characterization of High-Efficiency, Mi...   \n",
       "Mine planning for Asteroid Ore Bodies               [Michigan Technological University, Mining Eng...   \n",
       "\n",
       "                                                                                               people  \\\n",
       "Navigation to Small Bodies                          [Raviteja Nallapu, Jekan Thangavelautham, gdek...   \n",
       "ASTRONOMICAL ENGINEERING                            [CA 95064, GREGORY LAUGHLIN, gpl@acetylene.arc...   \n",
       "Phase II of the Main Belt Asteroid Spectrosopic...  [Icarus 158, Richard P. BinzelDepartment, doi,...   \n",
       "Devlopment of Xenon Hall Thrusters                  [Richard R., Thermalized, Gaussmeter.............   \n",
       "Mine planning for Asteroid Ore Bodies               [L. S. Gertsch1, R. E. Gertsch2, L. S. Gertsch...   \n",
       "\n",
       "                                                                                               places  \\\n",
       "Navigation to Small Bodies                          [Arizona, Tucson, AZ, Arizona, Tucson, AZ, AZ ...   \n",
       "ASTRONOMICAL ENGINEERING                            [Santa Cruz, CA 94035, U.S.A., Ann Arbor, MI 4...   \n",
       "Phase II of the Main Belt Asteroid Spectrosopic...  [Cambridge, Massachusetts, Hilo, albedos, albe...   \n",
       "Devlopment of Xenon Hall Thrusters                  [Ann Arbor, Michigan, Ann Arbor, MD, VA, Wien,...   \n",
       "Mine planning for Asteroid Ore Bodies               [Houghton, MI, Friable Rock, Hard Rock, Univ, ...   \n",
       "\n",
       "                                                                                               tokens  \\\n",
       "Navigation to Small Bodies                          [see, discussions, stats, and, author, profile...   \n",
       "ASTRONOMICAL ENGINEERING                            [astronomical, engineering, a, strategy, for, ...   \n",
       "Phase II of the Main Belt Asteroid Spectrosopic...  [icarus, 158, 146177, 2002, doi101006icar20026...   \n",
       "Devlopment of Xenon Hall Thrusters                  [nasacr2004213099httpsntrsnasagovsearchjspr200...   \n",
       "Mine planning for Asteroid Ore Bodies               [space, resources, roundtable, ii, 20007030pdf...   \n",
       "\n",
       "                                                                                               emails  \\\n",
       "Navigation to Small Bodies                          [85721srs51@email.arizona.eduRavi, 85721rnalla...   \n",
       "ASTRONOMICAL ENGINEERING                            [kory@ucolick.org, gpl@acetylene.arc.nasa.govF...   \n",
       "Phase II of the Main Belt Asteroid Spectrosopic...                       [sjb@ifa.hawaii.eduReceived]   \n",
       "Devlopment of Xenon Hall Thrusters                                               [help@sti.nasa.gov�]   \n",
       "Mine planning for Asteroid Ore Bodies               [1lgertsch@mtu.edu,, 2rgertsch@mtu.edu.Introdu...   \n",
       "\n",
       "                                                                                               lemmas  \\\n",
       "Navigation to Small Bodies                          [see, discussion, stats, and, author, profile,...   \n",
       "ASTRONOMICAL ENGINEERING                            [astronomical, engineer, a, strategy, for, mod...   \n",
       "Phase II of the Main Belt Asteroid Spectrosopic...  [icarus, 158, 146177, 2002, doi101006icar20026...   \n",
       "Devlopment of Xenon Hall Thrusters                  [nasacr2004213099httpsntrsnasagovsearchjspr200...   \n",
       "Mine planning for Asteroid Ore Bodies               [space, resource, roundtable, ii, 20007030pdfm...   \n",
       "\n",
       "                                                                                       10_most_common  \n",
       "Navigation to Small Bodies                          [(asteroid, 58), (use, 57), (spacecraft, 44), ...  \n",
       "ASTRONOMICAL ENGINEERING                            [(earth, 110), (encounter, 109), (orbit, 77), ...  \n",
       "Phase II of the Main Belt Asteroid Spectrosopic...  [(s, 346), (asteroid, 325), (spectrum, 211), (...  \n",
       "Devlopment of Xenon Hall Thrusters                  [(thruster, 1121), (current, 793), (voltage, 7...  \n",
       "Mine planning for Asteroid Ore Bodies               [(asteroid, 32), (process, 15), (bag, 14), (co...  "
      ]
     },
     "execution_count": 17,
     "metadata": {},
     "output_type": "execute_result"
    }
   ],
   "source": [
    "df.head()"
   ]
  },
  {
   "cell_type": "code",
   "execution_count": null,
   "metadata": {},
   "outputs": [],
   "source": []
  }
 ],
 "metadata": {
  "kernelspec": {
   "display_name": "Python 3",
   "language": "python",
   "name": "python3"
  },
  "language_info": {
   "codemirror_mode": {
    "name": "ipython",
    "version": 3
   },
   "file_extension": ".py",
   "mimetype": "text/x-python",
   "name": "python",
   "nbconvert_exporter": "python",
   "pygments_lexer": "ipython3",
   "version": "3.7.0"
  }
 },
 "nbformat": 4,
 "nbformat_minor": 2
}
