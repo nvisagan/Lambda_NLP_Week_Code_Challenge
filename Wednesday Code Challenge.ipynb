{
 "cells": [
  {
   "cell_type": "markdown",
   "metadata": {},
   "source": [
    "# Wednesday Code Challenge"
   ]
  },
  {
   "cell_type": "markdown",
   "metadata": {},
   "source": [
    "Below is starter code, similar to yesterdays code challenge"
   ]
  },
  {
   "cell_type": "code",
   "execution_count": 47,
   "metadata": {},
   "outputs": [
    {
     "data": {
      "text/html": [
       "<div>\n",
       "<style scoped>\n",
       "    .dataframe tbody tr th:only-of-type {\n",
       "        vertical-align: middle;\n",
       "    }\n",
       "\n",
       "    .dataframe tbody tr th {\n",
       "        vertical-align: top;\n",
       "    }\n",
       "\n",
       "    .dataframe thead th {\n",
       "        text-align: right;\n",
       "    }\n",
       "</style>\n",
       "<table border=\"1\" class=\"dataframe\">\n",
       "  <thead>\n",
       "    <tr style=\"text-align: right;\">\n",
       "      <th></th>\n",
       "      <th>contents</th>\n",
       "      <th>filename</th>\n",
       "    </tr>\n",
       "  </thead>\n",
       "  <tbody>\n",
       "    <tr>\n",
       "      <th>Navigation to Small Bodies</th>\n",
       "      <td>See discussions, stats, and author profiles fo...</td>\n",
       "      <td>txt_files/Navigation to Small Bodies.txt</td>\n",
       "    </tr>\n",
       "    <tr>\n",
       "      <th>ASTRONOMICAL ENGINEERING</th>\n",
       "      <td>ASTRONOMICAL ENGINEERING: A STRATEGY FOR MODIF...</td>\n",
       "      <td>txt_files/ASTRONOMICAL ENGINEERING.txt</td>\n",
       "    </tr>\n",
       "    <tr>\n",
       "      <th>Phase II of the Main Belt Asteroid Spectrosopic Survey</th>\n",
       "      <td>Icarus 158, 146�177 (2002) doi:10.1006/icar.20...</td>\n",
       "      <td>txt_files/Phase II of the Main Belt Asteroid S...</td>\n",
       "    </tr>\n",
       "    <tr>\n",
       "      <th>Devlopment of Xenon Hall Thrusters</th>\n",
       "      <td>NASA/CR--2004-213099https://ntrs.nasa.gov/sear...</td>\n",
       "      <td>txt_files/Devlopment of Xenon Hall Thrusters.txt</td>\n",
       "    </tr>\n",
       "    <tr>\n",
       "      <th>Mine planning for Asteroid Ore Bodies</th>\n",
       "      <td>Space Resources Roundtable II (2000)7030.pdfMI...</td>\n",
       "      <td>txt_files/Mine planning for Asteroid Ore Bodie...</td>\n",
       "    </tr>\n",
       "  </tbody>\n",
       "</table>\n",
       "</div>"
      ],
      "text/plain": [
       "                                                                                             contents  \\\n",
       "Navigation to Small Bodies                          See discussions, stats, and author profiles fo...   \n",
       "ASTRONOMICAL ENGINEERING                            ASTRONOMICAL ENGINEERING: A STRATEGY FOR MODIF...   \n",
       "Phase II of the Main Belt Asteroid Spectrosopic...  Icarus 158, 146�177 (2002) doi:10.1006/icar.20...   \n",
       "Devlopment of Xenon Hall Thrusters                  NASA/CR--2004-213099https://ntrs.nasa.gov/sear...   \n",
       "Mine planning for Asteroid Ore Bodies               Space Resources Roundtable II (2000)7030.pdfMI...   \n",
       "\n",
       "                                                                                             filename  \n",
       "Navigation to Small Bodies                                   txt_files/Navigation to Small Bodies.txt  \n",
       "ASTRONOMICAL ENGINEERING                                       txt_files/ASTRONOMICAL ENGINEERING.txt  \n",
       "Phase II of the Main Belt Asteroid Spectrosopic...  txt_files/Phase II of the Main Belt Asteroid S...  \n",
       "Devlopment of Xenon Hall Thrusters                   txt_files/Devlopment of Xenon Hall Thrusters.txt  \n",
       "Mine planning for Asteroid Ore Bodies               txt_files/Mine planning for Asteroid Ore Bodie...  "
      ]
     },
     "execution_count": 47,
     "metadata": {},
     "output_type": "execute_result"
    }
   ],
   "source": [
    "import pandas as pd\n",
    "import json\n",
    "import re\n",
    "import spacy\n",
    "from sklearn.feature_extraction.text import TfidfVectorizer\n",
    "\n",
    "\n",
    "nlp = spacy.load(\"en_core_web_lg\")\n",
    "spacy_stopwords = spacy.lang.en.stop_words.STOP_WORDS\n",
    "\n",
    "\n",
    "with open('documents.json') as f:\n",
    "    df = pd.DataFrame(json.load(f)).T.drop(columns = ['emails', 'institutions', 'people', 'places'])\n",
    "\n",
    "    \n",
    "df.head()"
   ]
  },
  {
   "cell_type": "markdown",
   "metadata": {},
   "source": [
    "---"
   ]
  },
  {
   "cell_type": "code",
   "execution_count": 48,
   "metadata": {},
   "outputs": [],
   "source": [
    "def tokenize(x):\n",
    "    text = x.lower()\n",
    "    text = re.sub(r'[^a-zA-Z ^0-9]', '', str(text))\n",
    "    return text.split()\n",
    "\n",
    "\n",
    "def spacy_lemmatize(x):\n",
    "    doc = nlp.tokenizer(x)\n",
    "    return [token.lemma_ for token in doc]\n",
    "\n",
    "\n",
    "def remove_stopwords(tokens):\n",
    "    cleaned_tokens = []\n",
    "    for token in tokens:\n",
    "        if token not in spacy_stopwords:\n",
    "            cleaned_tokens.append(token)\n",
    "    return ' '.join(cleaned_tokens)"
   ]
  },
  {
   "cell_type": "code",
   "execution_count": 49,
   "metadata": {},
   "outputs": [],
   "source": [
    "df['tokens'] = df['contents'].apply(lambda x: tokenize(x))\n",
    "df['tokens'] = df['tokens'].apply(lambda x: spacy_lemmatize(' '.join(x)))\n",
    "df['tokens'] = df['tokens'].apply(lambda x: remove_stopwords(x))"
   ]
  },
  {
   "cell_type": "code",
   "execution_count": 50,
   "metadata": {},
   "outputs": [
    {
     "data": {
      "text/plain": [
       "Navigation to Small Bodies                                discussion stats author profile publication ht...\n",
       "ASTRONOMICAL ENGINEERING                                  astronomical engineer strategy modify planetar...\n",
       "Phase II of the Main Belt Asteroid Spectrosopic Survey    icarus 158 146177 2002 doi101006icar20026856ph...\n",
       "Devlopment of Xenon Hall Thrusters                        nasacr2004213099httpsntrsnasagovsearchjspr2004...\n",
       "Mine planning for Asteroid Ore Bodies                     space resource roundtable ii 20007030pdfmine p...\n",
       "Name: tokens, dtype: object"
      ]
     },
     "execution_count": 50,
     "metadata": {},
     "output_type": "execute_result"
    }
   ],
   "source": [
    "df['tokens'].head()"
   ]
  },
  {
   "cell_type": "markdown",
   "metadata": {},
   "source": [
    "---"
   ]
  },
  {
   "cell_type": "markdown",
   "metadata": {},
   "source": [
    "## 1. Create a document-term matrix from the collection of papers using TF-IDF."
   ]
  },
  {
   "cell_type": "code",
   "execution_count": null,
   "metadata": {},
   "outputs": [],
   "source": []
  },
  {
   "cell_type": "markdown",
   "metadata": {},
   "source": [
    "---"
   ]
  },
  {
   "cell_type": "markdown",
   "metadata": {},
   "source": [
    "## 2. Explain what TF-IDF is."
   ]
  },
  {
   "cell_type": "markdown",
   "metadata": {},
   "source": []
  },
  {
   "cell_type": "markdown",
   "metadata": {},
   "source": [
    "---"
   ]
  },
  {
   "cell_type": "markdown",
   "metadata": {},
   "source": [
    "## 3. Using named entity extraction, extract all the people, geographic locations, and academic/industry institutions  from the contents of each paper. \n",
    "\n",
    "### Store each of these values in a new column. \n",
    "\n",
    "#### Hint: Check out the Spacy documentation for information regarding named entity extraction\n",
    "\n",
    "This will be far from perfect, and could take a few mins to run."
   ]
  },
  {
   "cell_type": "code",
   "execution_count": null,
   "metadata": {},
   "outputs": [],
   "source": []
  },
  {
   "cell_type": "markdown",
   "metadata": {},
   "source": [
    "---"
   ]
  }
 ],
 "metadata": {
  "kernelspec": {
   "display_name": "Python 3",
   "language": "python",
   "name": "python3"
  },
  "language_info": {
   "codemirror_mode": {
    "name": "ipython",
    "version": 3
   },
   "file_extension": ".py",
   "mimetype": "text/x-python",
   "name": "python",
   "nbconvert_exporter": "python",
   "pygments_lexer": "ipython3",
   "version": "3.7.0"
  }
 },
 "nbformat": 4,
 "nbformat_minor": 2
}
